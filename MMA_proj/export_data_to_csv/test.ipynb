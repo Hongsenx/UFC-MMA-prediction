{
 "cells": [
  {
   "cell_type": "code",
   "execution_count": 22,
   "metadata": {},
   "outputs": [],
   "source": [
    "# Import libraries\n",
    "import sqlite3\n",
    "from datetime import datetime\n",
    "import pandas as pd\n",
    "import matplotlib.pyplot as plt\n",
    "#print(db_queries.get_ref_id('Mario Yamasaki'))\n",
    "\n",
    "# connect to database\n",
    "import os\n",
    "# get filepath to database\n",
    "parent_dir = os.path.dirname(os.getcwd())\n",
    "db_filepath = parent_dir + r'\\ufc_db.db'\n",
    "# connect to database (not needed for now)\n",
    "db_connection = sqlite3.connect(db_filepath)\n",
    "cursor = db_connection.cursor()\n"
   ]
  },
  {
   "cell_type": "code",
   "execution_count": 23,
   "metadata": {},
   "outputs": [
    {
     "name": "stdout",
     "output_type": "stream",
     "text": [
      "(31,)\n"
     ]
    }
   ],
   "source": [
    "query = \"SELECT fighter_id FROM events JOIN fights ON events.id = fights.event_id JOIN fight_stats ON fights.id = fight_stats.fight_id WHERE fighter_id != ? AND fight_id = ? AND round = 0;\"\n",
    "param = [7, 16]\n",
    "opp_id = cursor.execute(query, param).fetchone()\n",
    "print(opp_id)"
   ]
  },
  {
   "cell_type": "code",
   "execution_count": 45,
   "metadata": {},
   "outputs": [],
   "source": [
    "def get_all_date_and_fight_id_for_a_fighter(fighter_id):\n",
    "  # input: fighter id\n",
    "  # output: a list of fights (fight_date, fight_id) for 1 fighter\n",
    "  query = \"SELECT events.date, fights.id FROM events JOIN fights ON events.id = fights.event_id WHERE fights.id IN (SELECT fight_id FROM fight_stats WHERE fighter_id = ? AND round = 0);\"\n",
    "  param = [fighter_id]\n",
    "  return cursor.execute(query, param).fetchall()\n",
    "\n",
    "\n",
    "def all_fights_of_fighter_before_date(fighter_id, date):\n",
    "  # input: fighter id + fight date\n",
    "  # output: a list of fight ids before a given date (of a fight) / None\n",
    "  \n",
    "  # format time to datetime obj\n",
    "  f_date = datetime.strptime(date, '%d/%b/%Y')\n",
    "  \n",
    "  return_list = []\n",
    "  \n",
    "  # get all of fighter's fights. Loop through. If fight is before input date, add it to return list\n",
    "  for fight in get_all_date_and_fight_id_for_a_fighter(fighter_id):\n",
    "    if (datetime.strptime(fight[0], '%d/%b/%Y') < f_date):\n",
    "      return_list.append(fight[1])\n",
    "\n",
    "  if (len(return_list) == 0):\n",
    "    return_list = None\n",
    "\n",
    "  return return_list\n",
    "\n",
    "def get_last_n_fights_before_date(fighter_id, date, last_n_fights):\n",
    "  # This function returns the most recent n amount of fights (id) of a fighter before a date, in chronological order.\n",
    "  # If fighter does not have that amount of fights, return None\n",
    "  # input: num of most recent fights to return\n",
    "  # output: a list of fight id / None\n",
    "  \n",
    "  # get all fights of fighter\n",
    "  #all_fights = all_fights_of_fighter_before_date(fighter_id, date)\n",
    "  all_fights = [1, 3, 6, 42]\n",
    "  \n",
    "  if (all_fights == None) or (last_n_fights < 1):\n",
    "    return None\n",
    "  elif (len(all_fights) < last_n_fights):\n",
    "    return None\n",
    "  elif (len(all_fights) == last_n_fights):\n",
    "    return all_fights\n",
    "  else:\n",
    "    return_list = []\n",
    "    counter = 0\n",
    "    index = len(all_fights)-last_n_fights\n",
    "    while counter != last_n_fights:\n",
    "      return_list.append(all_fights[index])\n",
    "      counter +=1\n",
    "      index += 1\n",
    "  return return_list"
   ]
  },
  {
   "cell_type": "code",
   "execution_count": 49,
   "metadata": {},
   "outputs": [
    {
     "name": "stdout",
     "output_type": "stream",
     "text": [
      "[1, 3, 6, 42]\n"
     ]
    }
   ],
   "source": [
    "print(get_last_n_fights_before_date(19, '10/May/2002', 4))"
   ]
  }
 ],
 "metadata": {
  "kernelspec": {
   "display_name": "Python 3",
   "language": "python",
   "name": "python3"
  },
  "language_info": {
   "codemirror_mode": {
    "name": "ipython",
    "version": 3
   },
   "file_extension": ".py",
   "mimetype": "text/x-python",
   "name": "python",
   "nbconvert_exporter": "python",
   "pygments_lexer": "ipython3",
   "version": "3.10.5 (tags/v3.10.5:f377153, Jun  6 2022, 16:14:13) [MSC v.1929 64 bit (AMD64)]"
  },
  "orig_nbformat": 4,
  "vscode": {
   "interpreter": {
    "hash": "951a55c62daa0ed720800ca1d0c51e3f94297ebc6245f13e9e7139a09f9272b5"
   }
  }
 },
 "nbformat": 4,
 "nbformat_minor": 2
}
