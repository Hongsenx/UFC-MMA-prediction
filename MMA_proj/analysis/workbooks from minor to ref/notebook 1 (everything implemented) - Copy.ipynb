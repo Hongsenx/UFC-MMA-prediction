{
 "cells": [
  {
   "cell_type": "markdown",
   "metadata": {},
   "source": [
    "## PREDICTING NBA SHOTS"
   ]
  },
  {
   "cell_type": "code",
   "execution_count": 1,
   "metadata": {},
   "outputs": [
    {
     "data": {
      "text/plain": [
       "<contextlib.ExitStack at 0x261fbe17e20>"
      ]
     },
     "execution_count": 1,
     "metadata": {},
     "output_type": "execute_result"
    }
   ],
   "source": [
    "# data modelling\n",
    "import sklearn\n",
    "\n",
    "# data processing\n",
    "import numpy as np\n",
    "import pandas as pd\n",
    "\n",
    "# data visualisation\n",
    "import matplotlib as mpl\n",
    "import matplotlib.pyplot as plt\n",
    "\n",
    "# balancing data\n",
    "from imblearn.over_sampling import RandomOverSampler\n",
    "from collections import Counter\n",
    "\n",
    "\n",
    "# turn off auto display chart\n",
    "plt.ioff()"
   ]
  },
  {
   "cell_type": "code",
   "execution_count": 2,
   "metadata": {},
   "outputs": [],
   "source": [
    "# reading CSV and creating dataframe\n",
    "df = pd.read_csv('shot_logs.csv')"
   ]
  },
  {
   "cell_type": "code",
   "execution_count": 3,
   "metadata": {},
   "outputs": [],
   "source": [
    "# drop MATCHUP COLUMN\n",
    "df.drop('MATCHUP', axis='columns', inplace=True)"
   ]
  },
  {
   "cell_type": "markdown",
   "metadata": {},
   "source": [
    "#### Adding dummy variables for string types"
   ]
  },
  {
   "cell_type": "code",
   "execution_count": 4,
   "metadata": {},
   "outputs": [],
   "source": [
    "# replacing variables tutorial\n",
    "# https://www.youtube.com/watch?v=6Ev7xmgVfKU\n",
    "\n",
    "# shift column position tutorial\n",
    "# https://www.geeksforgeeks.org/how-to-move-a-column-to-first-position-in-pandas-dataframe/#:~:text=The%20basic%20idea%20to%20move,to%20manipulate%20with%20our%20dataframe.\n",
    "\n",
    "\n",
    "# CHANGE FOR LOCATION ~~~~~~~~~~~~~~~~~~~~~~~~~~~~~\n",
    "# duplicate column\n",
    "df['LOCATION_DUM'] = df.loc[:, 'LOCATION']\n",
    "# replace values in column\n",
    "df['LOCATION_DUM'].replace({'A': 0, 'H': 1}, inplace=True)\n",
    "# shift column\n",
    "holder = df.pop('LOCATION_DUM')\n",
    "df.insert(df.columns.get_loc('LOCATION') + 1, 'LOCATION_DUM', holder)\n",
    "\n",
    "# CHANGE FOR W ~~~~~~~~~~~~~~~~~~~~~~~~~~~~~\n",
    "# duplicate column\n",
    "df['W_DUM'] = df.loc[:, 'W']\n",
    "# replace values in column\n",
    "df['W_DUM'].replace({'L': 0, 'W': 1}, inplace=True)\n",
    "# shift column\n",
    "holder = df.pop('W_DUM')\n",
    "df.insert(df.columns.get_loc('W') + 1, 'W_DUM', holder)\n",
    "\n",
    "# CHANGE FOR SHOT_RESULT ~~~~~~~~~~~~~~~~~~~~~~~~~~~~~\n",
    "# duplicate column\n",
    "df['SHOT_RES_DUM'] = df.loc[:, 'SHOT_RESULT']\n",
    "# replace values in column\n",
    "df['SHOT_RES_DUM'].replace({'missed': 0, 'made': 1}, inplace=True)\n",
    "# shift column\n",
    "holder = df.pop('SHOT_RES_DUM')\n",
    "df.insert(df.columns.get_loc('SHOT_RESULT') + 1, 'SHOT_RES_DUM', holder)\n",
    "\n",
    "# df.head()"
   ]
  },
  {
   "cell_type": "markdown",
   "metadata": {},
   "source": [
    "#### Changing size of numeric array for optimisation"
   ]
  },
  {
   "cell_type": "code",
   "execution_count": 5,
   "metadata": {},
   "outputs": [],
   "source": [
    "# FINAL MARGIN\n",
    "df['FINAL_MARGIN'] = pd.to_numeric(df['FINAL_MARGIN'], downcast='integer')\n",
    "# SHOT NUMBER\n",
    "df['SHOT_NUMBER'] = pd.to_numeric(df['SHOT_NUMBER'], downcast='integer')\n",
    "# PERIOD\n",
    "df['PERIOD'] = pd.to_numeric(df['PERIOD'], downcast='integer')\n",
    "# SHOT CLOCK (FLOAT)\n",
    "df['SHOT_CLOCK'] = pd.to_numeric(df['SHOT_CLOCK'], downcast='float')\n",
    "# NUMBER OF DRIBBLES\n",
    "df['DRIBBLES'] = pd.to_numeric(df['DRIBBLES'], downcast='integer')\n",
    "# SHOT NUMBER\n",
    "df['SHOT_NUMBER'] = pd.to_numeric(df['SHOT_NUMBER'], downcast='integer')\n",
    "# TOUCH TIME (FLOAT)\n",
    "df['TOUCH_TIME'] = pd.to_numeric(df['TOUCH_TIME'], downcast='float')\n",
    "# SHOT DISTANCE (FLOAT)\n",
    "df['SHOT_NUMBER'] = pd.to_numeric(df['SHOT_NUMBER'], downcast='float')\n",
    "# POINTS TYPE\n",
    "df['PTS_TYPE'] = pd.to_numeric(df['PTS_TYPE'], downcast='integer')\n",
    "# CLOSEST DEFENDER DISTANCE (FLOAT)\n",
    "df['CLOSE_DEF_DIST'] = pd.to_numeric(df['CLOSE_DEF_DIST'], downcast='float')\n",
    "# FGM\n",
    "df['FGM'] = pd.to_numeric(df['FGM'], downcast='integer')\n",
    "# POINTS\n",
    "df['PTS'] = pd.to_numeric(df['PTS'], downcast='integer')\n",
    "\n",
    "# DUMMY VARS\n",
    "df['LOCATION_DUM'] = pd.to_numeric(df['LOCATION_DUM'], downcast='integer')\n",
    "df['W_DUM'] = pd.to_numeric(df['W_DUM'], downcast='integer')\n",
    "df['SHOT_RES_DUM'] = pd.to_numeric(df['SHOT_RES_DUM'], downcast='integer')"
   ]
  },
  {
   "cell_type": "code",
   "execution_count": null,
   "metadata": {},
   "outputs": [],
   "source": [
    "# display headers and some data\n",
    "df.info()"
   ]
  },
  {
   "cell_type": "code",
   "execution_count": null,
   "metadata": {},
   "outputs": [],
   "source": [
    "# show first few data\n",
    "df.head()"
   ]
  },
  {
   "cell_type": "markdown",
   "metadata": {},
   "source": [
    "## Plotting charts"
   ]
  },
  {
   "cell_type": "markdown",
   "metadata": {},
   "source": [
    "#### Plot dribbles before shot"
   ]
  },
  {
   "cell_type": "code",
   "execution_count": null,
   "metadata": {},
   "outputs": [],
   "source": [
    "# plot dribbles\n",
    "dribbles_data = df.loc[:,\"DRIBBLES\"]\n",
    "plt.hist(dribbles_data, bins = 15, edgecolor=\"black\")\n",
    "\n",
    "# add labels\n",
    "plt.xlabel(\"Number of dribbles\")\n",
    "plt.ylabel(\"Instances\")\n",
    "plt.title(\"Number of dribbles before shot\")\n",
    "\n",
    "# save plot\n",
    "plt.savefig(\"dribbles.png\")\n",
    "\n",
    "# show plot\n",
    "plt.show()\n"
   ]
  },
  {
   "cell_type": "markdown",
   "metadata": {},
   "source": [
    "#### Plot touch time before shot"
   ]
  },
  {
   "cell_type": "code",
   "execution_count": null,
   "metadata": {},
   "outputs": [],
   "source": [
    "# delete row if touch time less than 0\n",
    "df.drop(df[df['TOUCH_TIME'] < 0].index, inplace = True)\n",
    "\n",
    "# droped 312 rows"
   ]
  },
  {
   "cell_type": "code",
   "execution_count": null,
   "metadata": {},
   "outputs": [],
   "source": [
    "# plot touch time\n",
    "touch_time_data = df.loc[:,\"TOUCH_TIME\"]\n",
    "plt.hist(touch_time_data, bins = 30, edgecolor=\"black\")\n",
    "\n",
    "# add labels\n",
    "plt.xlabel(\"Touch time\")\n",
    "plt.ylabel(\"Instances\")\n",
    "plt.title(\"Touch time before shot\")\n",
    "\n",
    "# save plot\n",
    "plt.savefig(\"time_before_shot.png\")\n",
    "\n",
    "# show plot\n",
    "plt.show()"
   ]
  },
  {
   "cell_type": "markdown",
   "metadata": {},
   "source": [
    "#### Plot shot distance"
   ]
  },
  {
   "cell_type": "code",
   "execution_count": null,
   "metadata": {},
   "outputs": [],
   "source": [
    "# plot shot distance\n",
    "shot_dist_data = df.loc[:,\"SHOT_DIST\"]\n",
    "plt.hist(shot_dist_data, bins = 15, edgecolor=\"black\")\n",
    "\n",
    "# add labels\n",
    "plt.xlabel(\"Shot distance\")\n",
    "plt.ylabel(\"Instances\")\n",
    "plt.title(\"Shot distance\")\n",
    "\n",
    "# save plot\n",
    "plt.savefig(\"shot_distance.png\")\n",
    "\n",
    "# show plot\n",
    "plt.show()"
   ]
  },
  {
   "cell_type": "markdown",
   "metadata": {},
   "source": [
    "#### Points type"
   ]
  },
  {
   "cell_type": "code",
   "execution_count": null,
   "metadata": {},
   "outputs": [],
   "source": [
    "# plot shot distance\n",
    "pts_type_data = df.loc[:,\"PTS_TYPE\"]\n",
    "pts_type_data2 = [0, 0]\n",
    "for pt in pts_type_data:\n",
    "  if pt == 2:\n",
    "    pts_type_data2[0] += 1\n",
    "  if pt == 3:\n",
    "    pts_type_data2[1] += 1\n",
    "\n",
    "\n",
    "plt.bar(['2','3'], pts_type_data2, edgecolor=\"black\")\n",
    "\n",
    "# add labels\n",
    "plt.xlabel(\"Point type\")\n",
    "plt.ylabel(\"Instances\")\n",
    "plt.title(\"2 or 3 point shots\")\n",
    "\n",
    "# save plot\n",
    "plt.savefig(\"pts_type.png\")\n",
    "\n",
    "# show plot\n",
    "plt.show()"
   ]
  },
  {
   "cell_type": "markdown",
   "metadata": {},
   "source": [
    "#### Closest defender distance"
   ]
  },
  {
   "cell_type": "code",
   "execution_count": null,
   "metadata": {},
   "outputs": [],
   "source": [
    "# plot closest defender distance\n",
    "def_dist = df.loc[:,\"CLOSE_DEF_DIST\"]\n",
    "plt.hist(def_dist, bins = 15, edgecolor=\"black\")\n",
    "\n",
    "# add labels\n",
    "plt.xlabel(\"Distance\")\n",
    "plt.ylabel(\"Instances\")\n",
    "plt.title(\"Closest defender distance\")\n",
    "\n",
    "# save plot\n",
    "plt.savefig(\"close_def_dist.png\")\n",
    "\n",
    "# show plot\n",
    "plt.show()"
   ]
  },
  {
   "cell_type": "markdown",
   "metadata": {},
   "source": [
    "#### Shot result"
   ]
  },
  {
   "cell_type": "code",
   "execution_count": null,
   "metadata": {},
   "outputs": [],
   "source": [
    "# shot result (bar)\n",
    "shot_result_data = df.loc[:,\"SHOT_RESULT\"]\n",
    "shot_result_data2 = [0, 0]\n",
    "for shot in shot_result_data:\n",
    "  if shot == 'made':\n",
    "    shot_result_data2[0] += 1\n",
    "  if shot == 'missed':\n",
    "    shot_result_data2[1] += 1\n",
    "\n",
    "\n",
    "plt.bar(['made','missed'], shot_result_data2, edgecolor=\"black\")\n",
    "\n",
    "# add labels\n",
    "plt.xlabel(\"made or miss\")\n",
    "plt.ylabel(\"Instances\")\n",
    "plt.title(\"Shot result\")\n",
    "\n",
    "# save plot\n",
    "plt.savefig(\"shot_result.png\")\n",
    "\n",
    "# show plot\n",
    "plt.show()"
   ]
  },
  {
   "cell_type": "code",
   "execution_count": null,
   "metadata": {},
   "outputs": [],
   "source": [
    "# shot result (pie)\n",
    "shot_result_data = df.loc[:,\"SHOT_RESULT\"]\n",
    "slices = [0, 0]\n",
    "for shot in shot_result_data:\n",
    "  if shot == 'made':\n",
    "    slices[0] += 1\n",
    "  if shot == 'missed':\n",
    "    slices[1] += 1\n",
    "\n",
    "labels = ['made', 'missed']\n",
    "colors = ['#008fd7', '#fc4f32']\n",
    "plt.pie(slices, labels=labels, colors=colors, wedgeprops={'edgecolor':'black'}, startangle=90, autopct='%1.1f%%')\n",
    "\n",
    "# add labels\n",
    "plt.title(\"Shot result\")\n",
    "\n",
    "# save plot\n",
    "plt.savefig(\"shot_result_pie.png\")\n",
    "\n",
    "# show plot\n",
    "plt.show()"
   ]
  },
  {
   "cell_type": "markdown",
   "metadata": {},
   "source": [
    "## Balancing data"
   ]
  },
  {
   "cell_type": "code",
   "execution_count": null,
   "metadata": {},
   "outputs": [],
   "source": [
    "# count number of made and missed shots\n",
    "# print(sorted(Counter(df['SHOT_RESULT']).items()))"
   ]
  },
  {
   "cell_type": "code",
   "execution_count": 6,
   "metadata": {},
   "outputs": [],
   "source": [
    "# create a copy of the data frame (X). Y will be a copy of all the shot results\n",
    "X = df.copy()\n",
    "Y = df['SHOT_RES_DUM']"
   ]
  },
  {
   "cell_type": "code",
   "execution_count": 7,
   "metadata": {},
   "outputs": [],
   "source": [
    "# Do oversampling and print\n",
    "ros = RandomOverSampler(random_state=0)\n",
    "# resample and df2 is now with balanced values\n",
    "# Y_resampled is just column with made/misses\n",
    "df2, Y_resampled = ros.fit_resample(X, Y)\n",
    "# count how many \n",
    "#print(f\" {sorted(Counter(Y_resampled).items())} \\nInstances: {len(Y_resampled)}\")"
   ]
  },
  {
   "cell_type": "code",
   "execution_count": null,
   "metadata": {},
   "outputs": [],
   "source": [
    "# check new dataframe shape (instances, columns)\n",
    "df2.shape"
   ]
  },
  {
   "cell_type": "markdown",
   "metadata": {},
   "source": [
    "## Splitting into training and testing data sets"
   ]
  },
  {
   "cell_type": "markdown",
   "metadata": {},
   "source": [
    "#### Split into 3 (training, validation, testing) for each, split into features and labels"
   ]
  },
  {
   "cell_type": "code",
   "execution_count": 8,
   "metadata": {},
   "outputs": [],
   "source": [
    "# create a copy of resampled data and class labels\n",
    "X2 = df2.copy()\n",
    "Y2 = Y_resampled.copy()"
   ]
  },
  {
   "cell_type": "code",
   "execution_count": 9,
   "metadata": {},
   "outputs": [],
   "source": [
    "# Dropping columns\n",
    "\n",
    "# drop 'FGM', 'SHOT_RESULT' & 'SHOT_RES_DUM' from  (REQUIRED)\n",
    "X2.drop(['FGM', 'SHOT_RESULT', 'SHOT_RES_DUM'], axis='columns', inplace=True)\n",
    "\n",
    "# dropping other columns\n",
    "X2.drop(['GAME_ID', 'LOCATION', 'W', 'W_DUM', 'GAME_CLOCK', 'SHOT_CLOCK', 'CLOSEST_DEFENDER', 'player_name', 'PTS', 'FINAL_MARGIN'], axis='columns', inplace=True)\n",
    "X2.drop(['player_id', 'CLOSEST_DEFENDER_PLAYER_ID'], axis='columns', inplace=True)"
   ]
  },
  {
   "cell_type": "code",
   "execution_count": 14,
   "metadata": {},
   "outputs": [],
   "source": [
    "# import split library\n",
    "from sklearn.model_selection import train_test_split\n",
    "\n",
    "# split into main(train + validation) = 85%, test = 15%\n",
    "main_features, test_features, main_labels, test_labels = train_test_split(X2, Y2, test_size = 0.15) # random_state = 0\n",
    "\n",
    "# split into train = 85%, + validation = 15%\n",
    "train_features, val_features, train_labels, val_labels = train_test_split(main_features, main_labels, test_size = 0.15) # random_state = 0\n",
    "\n",
    "# print test\n",
    "# print(f\"train features: {train_features.shape}\\ntrain labels: {train_labels.shape}\\nval features: {val_features.shape}\\ntest features: {test_features.shape}\\ntest labels: {test_labels.shape}\")"
   ]
  },
  {
   "cell_type": "markdown",
   "metadata": {},
   "source": [
    "Split into training, validation, testing"
   ]
  },
  {
   "cell_type": "code",
   "execution_count": 18,
   "metadata": {},
   "outputs": [],
   "source": [
    "# import split library\n",
    "from sklearn.model_selection import train_test_split\n",
    "\n",
    "# split into main(train + validation) = 85%, test = 15%\n",
    "main, test = train_test_split(df2, test_size = 0.15)\n",
    "\n",
    "# split into train = 85%, + validation = 15%\n",
    "train, val = train_test_split(main, test_size = 0.15) # random_state = 0"
   ]
  },
  {
   "cell_type": "markdown",
   "metadata": {},
   "source": [
    "### Exporting training, validation, testing data sets"
   ]
  },
  {
   "cell_type": "code",
   "execution_count": 19,
   "metadata": {},
   "outputs": [],
   "source": [
    "# EXPORT TRAIN, VAL, TEST\n",
    "\n",
    "#df2.to_csv(r'C:\\Users\\loh_h\\Desktop\\School\\all_data(balanced).csv', index=False)\n",
    "\n",
    "#train.to_csv(r'C:\\Users\\loh_h\\Desktop\\School\\train.csv', index=False)\n",
    "#val.to_csv(r'C:\\Users\\loh_h\\Desktop\\School\\val.csv', index=False)\n",
    "#test.to_csv(r'C:\\Users\\loh_h\\Desktop\\School\\test.csv', index=False)"
   ]
  },
  {
   "cell_type": "markdown",
   "metadata": {},
   "source": [
    "### TRAINING DATA"
   ]
  },
  {
   "cell_type": "markdown",
   "metadata": {},
   "source": [
    "### Random forest tutorials"
   ]
  },
  {
   "cell_type": "code",
   "execution_count": null,
   "metadata": {},
   "outputs": [],
   "source": [
    "# create RandomForest obj\n",
    "from sklearn.ensemble import RandomForestClassifier\n",
    "\n",
    "# instantiate model \n",
    "# DOCS - https://scikit-learn.org/stable/modules/generated/sklearn.ensemble.RandomForestClassifier.html\n",
    "rf_model = RandomForestClassifier(n_estimators = 100, class_weight = None, criterion = 'gini',\n",
    "                                 # max_depth = , min_samples = , min_samples_leaf = , max_leaf_nodes = , min_impurity_decrease = ,\n",
    "                                 bootstrap = True,  max_features = \"sqrt\",  oob_score = False\n",
    "                                 #random_state=0\n",
    "                                )"
   ]
  },
  {
   "cell_type": "code",
   "execution_count": null,
   "metadata": {},
   "outputs": [],
   "source": [
    "# training model\n",
    "rf_model.fit(train_features, train_labels)"
   ]
  },
  {
   "cell_type": "markdown",
   "metadata": {},
   "source": [
    "##### Initial model test with validation data"
   ]
  },
  {
   "cell_type": "code",
   "execution_count": null,
   "metadata": {},
   "outputs": [],
   "source": [
    "predictions = rf_model.predict(val_features)\n",
    "\n",
    "from sklearn import metrics\n",
    "print(f\"Accuracy = {metrics.accuracy_score(val_labels, predictions)}\")"
   ]
  },
  {
   "cell_type": "markdown",
   "metadata": {},
   "source": [
    "Testing with different n_estimators"
   ]
  },
  {
   "cell_type": "code",
   "execution_count": null,
   "metadata": {},
   "outputs": [],
   "source": [
    "n_estimators = [10, 20, 50, 100, 200, 500]\n",
    "train_results = []\n",
    "test_results = []\n",
    "\n",
    "for estimator in n_estimators:\n",
    "  # rf_model\n",
    "  "
   ]
  },
  {
   "cell_type": "markdown",
   "metadata": {},
   "source": [
    "### Feature Importance (Random Forest)\n",
    "\n",
    "https://mljar.com/blog/feature-importance-in-random-forest/"
   ]
  },
  {
   "cell_type": "code",
   "execution_count": null,
   "metadata": {},
   "outputs": [],
   "source": [
    "# Get feature importance (sorted)\n",
    "sorted_idx = rf_model.feature_importances_.argsort()\n",
    "plt.barh(train_features.columns[sorted_idx], rf_model.feature_importances_[sorted_idx])\n",
    "\n",
    "plt.ylabel(\"Features\")\n",
    "plt.xlabel(\"Mean decrease in impurity\")\n",
    "plt.title(\"Feature importance\")\n",
    "\n",
    "plt.show()"
   ]
  },
  {
   "cell_type": "markdown",
   "metadata": {},
   "source": [
    "#### Evaluation (Random Forest)"
   ]
  },
  {
   "cell_type": "code",
   "execution_count": 48,
   "metadata": {},
   "outputs": [
    {
     "name": "stdout",
     "output_type": "stream",
     "text": [
      "              precision    recall  f1-score   support\n",
      "\n",
      "           0       0.64      0.67      0.66      6323\n",
      "           1       0.65      0.62      0.63      6269\n",
      "\n",
      "    accuracy                           0.65     12592\n",
      "   macro avg       0.65      0.64      0.64     12592\n",
      "weighted avg       0.65      0.65      0.64     12592\n",
      "\n"
     ]
    },
    {
     "data": {
      "image/png": "[encoded data removed]",
      "text/plain": [
       "<Figure size 640x480 with 2 Axes>"
      ]
     },
     "metadata": {},
     "output_type": "display_data"
    }
   ],
   "source": [
    "from sklearn.metrics import confusion_matrix, ConfusionMatrixDisplay\n",
    "\n",
    "# Plot the confusion matrix in graph\n",
    "cm = confusion_matrix(val_labels,predictions, labels=rf_model.classes_)\n",
    "\n",
    "# ploting with labels\n",
    "disp = ConfusionMatrixDisplay(confusion_matrix=cm, display_labels=rf_model.classes_)\n",
    "disp.plot()\n",
    "\n",
    "\n",
    "from sklearn.metrics import classification_report\n",
    "print(classification_report(val_labels, predictions))"
   ]
  },
  {
   "cell_type": "markdown",
   "metadata": {},
   "source": [
    "XGBOOST IMPLEMENTATION\n",
    "\n",
    "youtube vid\n",
    "https://www.youtube.com/watch?v=rMeq9khzdvM"
   ]
  },
  {
   "cell_type": "code",
   "execution_count": null,
   "metadata": {},
   "outputs": [],
   "source": [
    "import xgboost"
   ]
  },
  {
   "cell_type": "code",
   "execution_count": null,
   "metadata": {},
   "outputs": [],
   "source": [
    "# INSTANTIATE MODEL WITH PARAMETERS\n",
    "xgboost_model = xgboost.XGBClassifier(\n",
    "                          learning_rate=0.1,\n",
    "                          n_estimators = 5000,\n",
    "                          subsample=0.5,\n",
    "                          colsample_bytree = 0.5,\n",
    "                          eval_metric = 'auc',\n",
    "                          verbosity=1)\n",
    "\n",
    "\n",
    "# Model parameters\n",
    "# learning rate -- the weightage of every tree in the classifier\n",
    "# max depth -- max depth of each tree in the xgb model\n",
    "# n_estimators -- the maximum number of trees the model will create\n",
    "# subsample -- the % of data in the sample that will get randomly selected for creating an individual tree in the observation (helps prevent overfitting) \n",
    "# colsample_bytree -- specifies % of total number of features to use \n",
    "# eval_metric = 'auc'\n",
    "\n",
    "# SPECIFYING EVALUATION DATA SET\n",
    "eval_set = [(val_features, val_labels)]\n",
    "\n",
    "\n",
    "# TRAIN MODEL\n",
    "xgboost_model.fit(train_features, train_labels,\n",
    "                  early_stopping_rounds = 10,\n",
    "                  eval_set = eval_set,\n",
    "                  verbose = True)\n",
    "\n",
    "\n",
    "# Model training parameters\n",
    "# early stopping rounds -- the input x. Says that if the model performance on the validation data set does not change for 10 iterations, no new tree will be built \n"
   ]
  },
  {
   "cell_type": "code",
   "execution_count": null,
   "metadata": {},
   "outputs": [],
   "source": [
    "# make prediction using xgboost\n",
    "predictions = xgboost_model.predict(val_features)\n",
    "\n",
    "from sklearn import metrics\n",
    "print(f\"Accuracy = {metrics.accuracy_score(val_labels, predictions)}\")"
   ]
  },
  {
   "cell_type": "markdown",
   "metadata": {},
   "source": [
    "### Feature importance"
   ]
  },
  {
   "cell_type": "code",
   "execution_count": null,
   "metadata": {},
   "outputs": [],
   "source": [
    "from xgboost import plot_importance\n",
    "\n",
    "plot_importance(xgboost_model)"
   ]
  },
  {
   "cell_type": "markdown",
   "metadata": {},
   "source": [
    "ADABOOST IMPLEMENTATION\n",
    "\n",
    "youtube vid\n",
    "https://www.youtube.com/watch?v=rMeq9khzdvM"
   ]
  },
  {
   "cell_type": "code",
   "execution_count": null,
   "metadata": {},
   "outputs": [],
   "source": [
    "from sklearn.ensemble import AdaBoostClassifier\n",
    "\n",
    "# INSTANTIATE MODEL WITH PARAMETERS\n",
    "adaboost_model = AdaBoostClassifier(n_estimators = 100,\n",
    "                                    learning_rate = 1)\n",
    "\n",
    "#n_estimators -- number of weak learners to train iteratively\n",
    "# learning_rate -- contributes to the weights of weak learners"
   ]
  },
  {
   "cell_type": "code",
   "execution_count": null,
   "metadata": {},
   "outputs": [],
   "source": [
    "# train adaboost classifer\n",
    "adaboost_model.fit(train_features, train_labels)"
   ]
  },
  {
   "cell_type": "code",
   "execution_count": null,
   "metadata": {},
   "outputs": [],
   "source": [
    "# Make prediction\n",
    "\n",
    "# make prediction using xgboost\n",
    "predictions = adaboost_model.predict(val_features)\n",
    "\n",
    "from sklearn import metrics\n",
    "print(f\"Accuracy = {metrics.accuracy_score(val_labels, predictions)}\")"
   ]
  }
 ],
 "metadata": {
  "kernelspec": {
   "display_name": "Python 3",
   "language": "python",
   "name": "python3"
  },
  "language_info": {
   "codemirror_mode": {
    "name": "ipython",
    "version": 3
   },
   "file_extension": ".py",
   "mimetype": "text/x-python",
   "name": "python",
   "nbconvert_exporter": "python",
   "pygments_lexer": "ipython3",
   "version": "3.10.5 (tags/v3.10.5:f377153, Jun  6 2022, 16:14:13) [MSC v.1929 64 bit (AMD64)]"
  },
  "orig_nbformat": 4,
  "vscode": {
   "interpreter": {
    "hash": "951a55c62daa0ed720800ca1d0c51e3f94297ebc6245f13e9e7139a09f9272b5"
   }
  }
 },
 "nbformat": 4,
 "nbformat_minor": 2
}
