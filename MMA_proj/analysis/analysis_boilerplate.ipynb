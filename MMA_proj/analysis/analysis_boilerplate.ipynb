{
 "cells": [
  {
   "cell_type": "code",
   "execution_count": 4,
   "metadata": {},
   "outputs": [],
   "source": [
    "# Import libraries\n",
    "import sqlite3\n",
    "\n",
    "import pandas as pd\n",
    "import matplotlib.pyplot as plt\n",
    "import db_queries\n",
    "#print(db_queries.get_ref_id('Mario Yamasaki'))\n",
    "\n",
    "# connect to database\n",
    "import os\n",
    "# get filepath to database\n",
    "parent_dir = os.path.dirname(os.getcwd())\n",
    "db_filepath = parent_dir + r'\\ufc_db.db'\n",
    "# connect to database (not needed for now)\n",
    "db_connection = sqlite3.connect(db_filepath)\n",
    "cursor = db_connection.cursor()\n"
   ]
  }
 ],
 "metadata": {
  "kernelspec": {
   "display_name": "Python 3.10.5 64-bit",
   "language": "python",
   "name": "python3"
  },
  "language_info": {
   "codemirror_mode": {
    "name": "ipython",
    "version": 3
   },
   "file_extension": ".py",
   "mimetype": "text/x-python",
   "name": "python",
   "nbconvert_exporter": "python",
   "pygments_lexer": "ipython3",
   "version": "3.10.5"
  },
  "orig_nbformat": 4,
  "vscode": {
   "interpreter": {
    "hash": "951a55c62daa0ed720800ca1d0c51e3f94297ebc6245f13e9e7139a09f9272b5"
   }
  }
 },
 "nbformat": 4,
 "nbformat_minor": 2
}
